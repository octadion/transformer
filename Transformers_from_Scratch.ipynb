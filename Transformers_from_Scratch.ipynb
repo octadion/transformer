{
  "nbformat": 4,
  "nbformat_minor": 0,
  "metadata": {
    "colab": {
      "provenance": [],
      "toc_visible": true
    },
    "kernelspec": {
      "name": "python3",
      "display_name": "Python 3"
    },
    "language_info": {
      "name": "python"
    }
  },
  "cells": [
    {
      "cell_type": "markdown",
      "source": [
        "# Encoder"
      ],
      "metadata": {
        "id": "hqn2Cc96m32Q"
      }
    },
    {
      "cell_type": "markdown",
      "source": [
        "## Dataset"
      ],
      "metadata": {
        "id": "UrohAqYHkxd1"
      }
    },
    {
      "cell_type": "code",
      "execution_count": null,
      "metadata": {
        "id": "XQzDeTqEbbLD"
      },
      "outputs": [],
      "source": [
        "text = \"\"\"\n",
        "The cat lazily stretched out on the sunny windowsill.\n",
        "The aroma of freshly baked cookies filled the kitchen.\n",
        "The stars twinkled brightly in the clear night sky.\n",
        "\"\"\""
      ]
    },
    {
      "cell_type": "markdown",
      "source": [
        "## Vocab Size"
      ],
      "metadata": {
        "id": "CgcXjAlTk1-9"
      }
    },
    {
      "cell_type": "code",
      "source": [
        "words = text.lower().split()\n",
        "\n",
        "words = [''.join(e for e in word if e.isalnum()) for word in words]\n",
        "\n",
        "vocab_size = len(set(words))\n",
        "\n",
        "print(f\"Words: {words}\")\n",
        "print(f\"Vocab Size: {vocab_size}\")"
      ],
      "metadata": {
        "colab": {
          "base_uri": "https://localhost:8080/"
        },
        "id": "-BA0U5MwbeZH",
        "outputId": "658db48e-d4b1-4b29-baf0-177044707e88"
      },
      "execution_count": null,
      "outputs": [
        {
          "output_type": "stream",
          "name": "stdout",
          "text": [
            "Words: ['the', 'cat', 'lazily', 'stretched', 'out', 'on', 'the', 'sunny', 'windowsill', 'the', 'aroma', 'of', 'freshly', 'baked', 'cookies', 'filled', 'the', 'kitchen', 'the', 'stars', 'twinkled', 'brightly', 'in', 'the', 'clear', 'night', 'sky']\n",
            "Vocab Size: 22\n"
          ]
        }
      ]
    },
    {
      "cell_type": "code",
      "source": [
        "word_to_num = {}\n",
        "counter = 1\n",
        "\n",
        "for word in words:\n",
        "    if word not in word_to_num:\n",
        "        word_to_num[word] = counter\n",
        "        counter += 1\n",
        "\n",
        "print(f\"Encode words: {word_to_num}\")"
      ],
      "metadata": {
        "id": "IWb6ht2weZt_",
        "colab": {
          "base_uri": "https://localhost:8080/"
        },
        "outputId": "29cfdfef-976e-4741-c245-db5950cd0000"
      },
      "execution_count": null,
      "outputs": [
        {
          "output_type": "stream",
          "name": "stdout",
          "text": [
            "Encode words: {'the': 1, 'cat': 2, 'lazily': 3, 'stretched': 4, 'out': 5, 'on': 6, 'sunny': 7, 'windowsill': 8, 'aroma': 9, 'of': 10, 'freshly': 11, 'baked': 12, 'cookies': 13, 'filled': 14, 'kitchen': 15, 'stars': 16, 'twinkled': 17, 'brightly': 18, 'in': 19, 'clear': 20, 'night': 21, 'sky': 22}\n"
          ]
        }
      ]
    },
    {
      "cell_type": "markdown",
      "source": [
        "## Encoding"
      ],
      "metadata": {
        "id": "UZE8AaElk46Y"
      }
    },
    {
      "cell_type": "code",
      "source": [
        "encoded_words = {'the': 7, 'cat': 3,\n",
        "                 'lazily': 2, 'stretched': 5,\n",
        "                 'out': 4, 'on': 6,\n",
        "                 'sunny': 1, 'windowsill': 11,\n",
        "                 'aroma': 9, 'of': 10, 'freshly': 8,\n",
        "                 'baked': 20, 'cookies': 13, 'filled': 17,\n",
        "                 'kitchen': 15, 'stars': 16, 'twinkled': 14,\n",
        "                 'brightly': 21, 'in': 19, 'clear': 9,\n",
        "                 'night': 18, 'sky': 22}"
      ],
      "metadata": {
        "id": "UbcKCF96cEhl"
      },
      "execution_count": null,
      "outputs": []
    },
    {
      "cell_type": "code",
      "source": [
        "encoded_words = {'i': 1,\n",
        "                 'drink': 2,\n",
        "                 'things': 3,\n",
        "                 'know': 4,\n",
        "                 'when': 5,\n",
        "                 'wont': 6,\n",
        "                 'play': 7,\n",
        "                 'out': 8,\n",
        "                 'true': 9,\n",
        "                 'storm': 10,\n",
        "                 'brings': 11,\n",
        "                 'game': 12,\n",
        "                 'the': 13,\n",
        "                 'win': 14,\n",
        "                 'of': 15,\n",
        "                 'enemy': 16,\n",
        "                 'you': 17,\n",
        "                 'wait': 18,\n",
        "                 'thrones': 19,\n",
        "                 'and': 20,\n",
        "                 'or': 21,\n",
        "                 'die': 22,\n",
        "                 'he': 23}"
      ],
      "metadata": {
        "id": "vT1NmAZ4lAxg"
      },
      "execution_count": null,
      "outputs": []
    },
    {
      "cell_type": "markdown",
      "source": [
        "## Word Embedding"
      ],
      "metadata": {
        "id": "oWOBdJ8wk7dg"
      }
    },
    {
      "cell_type": "code",
      "source": [
        "import numpy as np\n",
        "\n",
        "word_embeddings = {}\n",
        "\n",
        "for word in encoded_words.keys():\n",
        "    word_embeddings[word] = np.random.rand(6)\n",
        "\n",
        "print(word_embeddings)"
      ],
      "metadata": {
        "colab": {
          "base_uri": "https://localhost:8080/"
        },
        "id": "gwvR1Tu7nZWg",
        "outputId": "bf12f953-4f70-4e07-a52a-da93974491c9"
      },
      "execution_count": null,
      "outputs": [
        {
          "output_type": "stream",
          "name": "stdout",
          "text": [
            "{'i': array([0.83326976, 0.4116421 , 0.7059852 , 0.35628425, 0.494453  ,\n",
            "       0.30329869]), 'drink': array([0.2104907 , 0.08943647, 0.39845702, 0.31514905, 0.17653371,\n",
            "       0.09613043]), 'things': array([0.93623006, 0.29567487, 0.40411039, 0.77489315, 0.2405066 ,\n",
            "       0.81255297]), 'know': array([0.93808735, 0.3741915 , 0.48425115, 0.36750703, 0.64167477,\n",
            "       0.57419308]), 'when': array([0.57098576, 0.40369725, 0.63765342, 0.2554719 , 0.16109369,\n",
            "       0.24444861]), 'wont': array([0.2806265 , 0.41638408, 0.18022047, 0.71173044, 0.64462371,\n",
            "       0.10324108]), 'play': array([0.3387918 , 0.48694483, 0.40335745, 0.53233174, 0.23242059,\n",
            "       0.20920436]), 'out': array([0.68280454, 0.22586614, 0.8038382 , 0.10114445, 0.25228328,\n",
            "       0.05541636]), 'true': array([0.0986547 , 0.09433718, 0.63339645, 0.20169918, 0.39858992,\n",
            "       0.32230135]), 'storm': array([0.38636369, 0.6114414 , 0.60333219, 0.81792873, 0.1691446 ,\n",
            "       0.52786631]), 'brings': array([0.1464202 , 0.9976896 , 0.62514728, 0.29047846, 0.68218964,\n",
            "       0.94010926]), 'game': array([0.59747648, 0.91133868, 0.69943714, 0.60622882, 0.24961218,\n",
            "       0.39220471]), 'the': array([0.31451976, 0.73300882, 0.31617023, 0.66598889, 0.27219139,\n",
            "       0.30211957]), 'win': array([0.03950683, 0.3398224 , 0.41125291, 0.98823875, 0.12464669,\n",
            "       0.50833403]), 'of': array([0.9002168 , 0.26971215, 0.20550778, 0.58376149, 0.40355716,\n",
            "       0.03622591]), 'enemy': array([0.44976042, 0.35938369, 0.43961419, 0.9173171 , 0.06590122,\n",
            "       0.45971984]), 'you': array([0.65149787, 0.34095949, 0.76377263, 0.76833747, 0.22672491,\n",
            "       0.18768924]), 'wait': array([0.53400854, 0.0821992 , 0.57101824, 0.79485005, 0.75734875,\n",
            "       0.73520521]), 'thrones': array([0.79440633, 0.0255049 , 0.80462189, 0.81545682, 0.20727422,\n",
            "       0.12275907]), 'and': array([0.08556459, 0.74559323, 0.54510292, 0.73444251, 0.6384897 ,\n",
            "       0.99956813]), 'or': array([0.50716203, 0.3895378 , 0.72034359, 0.34440444, 0.37398122,\n",
            "       0.75642003]), 'die': array([0.56465613, 0.75703939, 0.35043242, 0.63211942, 0.62195742,\n",
            "       0.78294239]), 'he': array([0.73365674, 0.74812025, 0.12662071, 0.67877615, 0.37730855,\n",
            "       0.00825322])}\n"
          ]
        }
      ]
    },
    {
      "cell_type": "markdown",
      "source": [
        "## Positional Embedding"
      ],
      "metadata": {
        "id": "2H_oi9ySlALx"
      }
    },
    {
      "cell_type": "code",
      "source": [
        "import numpy as np\n",
        "\n",
        "given_embeddings = {\n",
        "    'when': np.array([0.79, 0.6, 0.96, 0.64, 0.97, 0.2]),\n",
        "    'you': np.array([0.38, 0.12, 0.06, 0.79, 0.9, 0.74]),\n",
        "    'play': np.array([0.01, 0.51, 0.27, 0.31, 0.56, 0.59]),\n",
        "    'game': np.array([0.12, 0.6, 0.65, 0.22, 0.07, 0.37]),\n",
        "    'of': np.array([0.88, 0.41, 0.79, 0.62, 0.5, 0.7]),\n",
        "    'thrones': np.array([0.6, 0.33, 0.75, 0.48, 0.94, 0.21]),\n",
        "}\n",
        "\n",
        "positional_embeddings = {}\n",
        "\n",
        "for i, word in enumerate(given_embeddings.keys()):\n",
        "    positional_embeddings[word] = np.zeros(6)\n",
        "    for d in range(6):\n",
        "        if d % 2 == 0:\n",
        "            positional_embeddings[word][d] = np.sin(i / (10000 ** (2*d / 6)))\n",
        "            print(f\"Word: {word}, Position: {i}, Dimension: {d}, Formula: sin({i} / (10000 ** ((2*{d}) / 6))), Value: {positional_embeddings[word][d]}\")\n",
        "        else:\n",
        "            positional_embeddings[word][d] = np.cos(i / (10000 ** (2*d / 6)))\n",
        "            print(f\"Word: {word}, Position: {i}, Dimension: {d}, Formula: cos({i} / (10000 ** ((2*{d}) / 6))), Value: {positional_embeddings[word][d]}\")\n",
        "\n",
        "for word, embedding in positional_embeddings.items():\n",
        "    positional_embeddings[word] = np.round(embedding, 4)\n",
        "\n",
        "print(positional_embeddings)"
      ],
      "metadata": {
        "colab": {
          "base_uri": "https://localhost:8080/"
        },
        "id": "xF0arFVinl5a",
        "outputId": "31484dca-f782-4bff-c140-db0a2bb6bc68"
      },
      "execution_count": null,
      "outputs": [
        {
          "output_type": "stream",
          "name": "stdout",
          "text": [
            "Word: when, Position: 0, Dimension: 0, Formula: sin(0 / (10000 ** ((2*0) / 6))), Value: 0.0\n",
            "Word: when, Position: 0, Dimension: 1, Formula: cos(0 / (10000 ** ((2*1) / 6))), Value: 1.0\n",
            "Word: when, Position: 0, Dimension: 2, Formula: sin(0 / (10000 ** ((2*2) / 6))), Value: 0.0\n",
            "Word: when, Position: 0, Dimension: 3, Formula: cos(0 / (10000 ** ((2*3) / 6))), Value: 1.0\n",
            "Word: when, Position: 0, Dimension: 4, Formula: sin(0 / (10000 ** ((2*4) / 6))), Value: 0.0\n",
            "Word: when, Position: 0, Dimension: 5, Formula: cos(0 / (10000 ** ((2*5) / 6))), Value: 1.0\n",
            "Word: you, Position: 1, Dimension: 0, Formula: sin(1 / (10000 ** ((2*0) / 6))), Value: 0.8414709848078965\n",
            "Word: you, Position: 1, Dimension: 1, Formula: cos(1 / (10000 ** ((2*1) / 6))), Value: 0.9989229760406304\n",
            "Word: you, Position: 1, Dimension: 2, Formula: sin(1 / (10000 ** ((2*2) / 6))), Value: 0.0021544330233656045\n",
            "Word: you, Position: 1, Dimension: 3, Formula: cos(1 / (10000 ** ((2*3) / 6))), Value: 0.999999995\n",
            "Word: you, Position: 1, Dimension: 4, Formula: sin(1 / (10000 ** ((2*4) / 6))), Value: 4.641588833596115e-06\n",
            "Word: you, Position: 1, Dimension: 5, Formula: cos(1 / (10000 ** ((2*5) / 6))), Value: 0.9999999999999768\n",
            "Word: play, Position: 2, Dimension: 0, Formula: sin(2 / (10000 ** ((2*0) / 6))), Value: 0.9092974268256817\n",
            "Word: play, Position: 2, Dimension: 1, Formula: cos(2 / (10000 ** ((2*1) / 6))), Value: 0.9956942241237399\n",
            "Word: play, Position: 2, Dimension: 2, Formula: sin(2 / (10000 ** ((2*2) / 6))), Value: 0.0043088560467428125\n",
            "Word: play, Position: 2, Dimension: 3, Formula: cos(2 / (10000 ** ((2*3) / 6))), Value: 0.9999999800000001\n",
            "Word: play, Position: 2, Dimension: 4, Formula: sin(2 / (10000 ** ((2*4) / 6))), Value: 9.28317766709223e-06\n",
            "Word: play, Position: 2, Dimension: 5, Formula: cos(2 / (10000 ** ((2*5) / 6))), Value: 0.9999999999999072\n",
            "Word: game, Position: 3, Dimension: 0, Formula: sin(3 / (10000 ** ((2*0) / 6))), Value: 0.1411200080598672\n",
            "Word: game, Position: 3, Dimension: 1, Formula: cos(3 / (10000 ** ((2*1) / 6))), Value: 0.990320699135675\n",
            "Word: game, Position: 3, Dimension: 2, Formula: sin(3 / (10000 ** ((2*2) / 6))), Value: 0.006463259070189646\n",
            "Word: game, Position: 3, Dimension: 3, Formula: cos(3 / (10000 ** ((2*3) / 6))), Value: 0.9999999550000004\n",
            "Word: game, Position: 3, Dimension: 4, Formula: sin(3 / (10000 ** ((2*4) / 6))), Value: 1.3924766500388347e-05\n",
            "Word: game, Position: 3, Dimension: 5, Formula: cos(3 / (10000 ** ((2*5) / 6))), Value: 0.9999999999997912\n",
            "Word: of, Position: 4, Dimension: 0, Formula: sin(4 / (10000 ** ((2*0) / 6))), Value: -0.7568024953079282\n",
            "Word: of, Position: 4, Dimension: 1, Formula: cos(4 / (10000 ** ((2*1) / 6))), Value: 0.9828139759067526\n",
            "Word: of, Position: 4, Dimension: 2, Formula: sin(4 / (10000 ** ((2*2) / 6))), Value: 0.008617632093856952\n",
            "Word: of, Position: 4, Dimension: 3, Formula: cos(4 / (10000 ** ((2*3) / 6))), Value: 0.999999920000001\n",
            "Word: of, Position: 4, Dimension: 4, Formula: sin(4 / (10000 ** ((2*4) / 6))), Value: 1.8566355333384463e-05\n",
            "Word: of, Position: 4, Dimension: 5, Formula: cos(4 / (10000 ** ((2*5) / 6))), Value: 0.9999999999996286\n",
            "Word: thrones, Position: 5, Dimension: 0, Formula: sin(5 / (10000 ** ((2*0) / 6))), Value: -0.9589242746631385\n",
            "Word: thrones, Position: 5, Dimension: 1, Formula: cos(5 / (10000 ** ((2*1) / 6))), Value: 0.9731902242785205\n",
            "Word: thrones, Position: 5, Dimension: 2, Formula: sin(5 / (10000 ** ((2*2) / 6))), Value: 0.010771965118034833\n",
            "Word: thrones, Position: 5, Dimension: 3, Formula: cos(5 / (10000 ** ((2*3) / 6))), Value: 0.9999998750000026\n",
            "Word: thrones, Position: 5, Dimension: 4, Formula: sin(5 / (10000 ** ((2*4) / 6))), Value: 2.320794416598058e-05\n",
            "Word: thrones, Position: 5, Dimension: 5, Formula: cos(5 / (10000 ** ((2*5) / 6))), Value: 0.9999999999994198\n",
            "{'when': array([0., 1., 0., 1., 0., 1.]), 'you': array([0.8415, 0.9989, 0.0022, 1.    , 0.    , 1.    ]), 'play': array([0.9093, 0.9957, 0.0043, 1.    , 0.    , 1.    ]), 'game': array([0.1411, 0.9903, 0.0065, 1.    , 0.    , 1.    ]), 'of': array([-0.7568,  0.9828,  0.0086,  1.    ,  0.    ,  1.    ]), 'thrones': array([-0.9589,  0.9732,  0.0108,  1.    ,  0.    ,  1.    ])}\n"
          ]
        }
      ]
    },
    {
      "cell_type": "markdown",
      "source": [
        "## Concat Positional & Word Embedding"
      ],
      "metadata": {
        "id": "-b62vKkDlDj2"
      }
    },
    {
      "cell_type": "code",
      "source": [
        "summed_embeddings = {}\n",
        "\n",
        "for word in given_embeddings.keys():\n",
        "    summed_embeddings[word] = given_embeddings[word] + positional_embeddings[word]\n",
        "\n",
        "print(summed_embeddings)"
      ],
      "metadata": {
        "colab": {
          "base_uri": "https://localhost:8080/"
        },
        "id": "4y-PfYIA5UyT",
        "outputId": "38df8655-b6dc-477c-8797-103e0d4be203"
      },
      "execution_count": null,
      "outputs": [
        {
          "output_type": "stream",
          "name": "stdout",
          "text": [
            "{'when': array([0.79, 1.6 , 0.96, 1.64, 0.97, 1.2 ]), 'you': array([1.2215, 1.1189, 0.0622, 1.79  , 0.9   , 1.74  ]), 'play': array([0.9193, 1.5057, 0.2743, 1.31  , 0.56  , 1.59  ]), 'game': array([0.2611, 1.5903, 0.6565, 1.22  , 0.07  , 1.37  ]), 'of': array([0.1232, 1.3928, 0.7986, 1.62  , 0.5   , 1.7   ]), 'thrones': array([-0.3589,  1.3032,  0.7608,  1.48  ,  0.94  ,  1.21  ])}\n"
          ]
        }
      ]
    },
    {
      "cell_type": "markdown",
      "source": [
        "## Multi Head Attention"
      ],
      "metadata": {
        "id": "y_mJf_kQlP7-"
      }
    },
    {
      "cell_type": "markdown",
      "source": [
        "### Calculate Q, K, V with Word + Positional Embedding"
      ],
      "metadata": {
        "id": "f5xD8K61lgXr"
      }
    },
    {
      "cell_type": "code",
      "source": [
        "query_weights = np.array([\n",
        "    [0.52, 0.45, 0.91, 0.69],\n",
        "    [0.05, 0.85, 0.37, 0.83],\n",
        "    [0.49, 0.1 , 0.56, 0.61],\n",
        "    [0.71, 0.64, 0.4, 0.14],\n",
        "    [0.76, 0.27, 0.92, 0.67],\n",
        "    [0.85, 0.56, 0.57, 0.07]\n",
        "])\n",
        "key_weights = np.array([\n",
        "    [0.74, 0.57, 0.21, 0.73],\n",
        "    [0.55, 0.16, 0.9, 0.17],\n",
        "    [0.25, 0.74, 0.8, 0.98],\n",
        "    [0.8, 0.73, 0.2, 0.31],\n",
        "    [0.37, 0.96, 0.42, 0.08],\n",
        "    [0.28, 0.41, 0.87, 0.86]\n",
        "])\n",
        "value_weights = np.array([\n",
        "    [0.62, 0.07, 0.7, 0.95],\n",
        "    [0.2, 0.97, 0.61, 0.35],\n",
        "    [0.57, 0.8, 0.61, 0.5],\n",
        "    [0.67, 0.35, 0.98, 0.54],\n",
        "    [0.47, 0.83, 0.34, 0.94],\n",
        "    [0.6, 0.69, 0.13, 0.98]\n",
        "])"
      ],
      "metadata": {
        "id": "1mh62f6R5H9c"
      },
      "execution_count": null,
      "outputs": []
    },
    {
      "cell_type": "code",
      "source": [
        "query = {}\n",
        "\n",
        "for word in summed_embeddings.keys():\n",
        "    query [word] = np.zeros(4)\n",
        "    for i in range(4):\n",
        "        query [word][i] = np.nansum(summed_embeddings[word] * query_weights[:, i])\n",
        "\n",
        "print(query)"
      ],
      "metadata": {
        "colab": {
          "base_uri": "https://localhost:8080/"
        },
        "id": "H0pWDvcE8azp",
        "outputId": "16c6bec3-57d1-4c46-cffc-5ce5d51deaa8"
      },
      "execution_count": null,
      "outputs": [
        {
          "output_type": "stream",
          "name": "stdout",
          "text": [
            "{'when': array([3.8828, 3.795 , 4.0809, 3.4222]), 'you': array([4.155503, 3.86996 , 4.09619 , 2.784864]), 'play': array([3.394928, 3.60096 , 3.49278 , 2.721271]), 'game': array([2.620872, 3.1018  , 2.526952, 2.214173]), 'of': array([3.500218, 3.44298 , 3.151664, 2.408978]), 'thrones': array([3.045024, 2.900895, 2.728133, 2.219803])}\n"
          ]
        }
      ]
    },
    {
      "cell_type": "code",
      "source": [
        "key = {}\n",
        "\n",
        "for word in summed_embeddings.keys():\n",
        "    key[word] = np.zeros(4)\n",
        "    for i in range(4):\n",
        "        key[word][i] = np.nansum(summed_embeddings[word] * key_weights[:, i])\n",
        "\n",
        "print(key)"
      ],
      "metadata": {
        "colab": {
          "base_uri": "https://localhost:8080/"
        },
        "id": "QA92rWHO-H8x",
        "outputId": "e677f7ef-5159-4a4a-8b7e-0883f756c8b7"
      },
      "execution_count": null,
      "outputs": [
        {
          "output_type": "stream",
          "name": "stdout",
          "text": [
            "{'when': array([3.7115, 4.0371, 4.1533, 3.4075]), 'you': array([3.787055, 3.805407, 3.563085, 3.266164]), 'play': array([3.277392, 3.113695, 3.648123, 3.014172]), 'game': array([2.617504, 2.408585, 3.476601, 2.666324]), 'of': array([3.013858, 3.243636, 3.931272, 3.11354 ]), 'thrones': array([2.511974, 3.045831, 3.449651, 2.279731])}\n"
          ]
        }
      ]
    },
    {
      "cell_type": "code",
      "source": [
        "value = {}\n",
        "\n",
        "for word in summed_embeddings.keys():\n",
        "    value[word] = np.zeros(4)\n",
        "    for i in range(4):\n",
        "        value[word][i] = np.nansum(summed_embeddings[word] * value_weights[:, i])\n",
        "\n",
        "print(value)"
      ],
      "metadata": {
        "colab": {
          "base_uri": "https://localhost:8080/"
        },
        "id": "D-CxVSuY-JRy",
        "outputId": "f55952c6-0d5a-484f-8fa7-9cf4c5036c15"
      },
      "execution_count": null,
      "outputs": [
        {
          "output_type": "stream",
          "name": "stdout",
          "text": [
            "{'when': array([3.6317, 4.5824, 4.2076, 4.7639]), 'you': array([3.682864, 3.794698, 3.861921, 5.10094 ]), 'play': array([3.122357, 3.76472 , 3.41021 , 4.32948 ]), 'game': array([2.526447, 3.516468, 2.950818, 3.2001  ]), 'of': array([3.150546, 4.15352 , 3.401594, 4.01462 ]), 'thrones': array([2.631178, 3.980721, 2.93511 , 3.364165])}\n"
          ]
        }
      ]
    },
    {
      "cell_type": "code",
      "source": [
        "query_matrix = np.array(list(query.values()))\n",
        "key_matrix = np.array(list(key.values()))\n",
        "\n",
        "single_head = np.dot(query_matrix, key_matrix.T)\n",
        "\n",
        "print(single_head)"
      ],
      "metadata": {
        "colab": {
          "base_uri": "https://localhost:8080/"
        },
        "id": "eqTon-g1-zPh",
        "outputId": "05caf559-f289-4e46-e255-f8b56061e20b"
      },
      "execution_count": null,
      "outputs": [
        {
          "output_type": "stream",
          "name": "stdout",
          "text": [
            "[[58.34215517 54.86395674 49.74465475 42.61617962 50.71009096 43.19179749]\n",
            " [57.54869491 54.15478698 49.00655143 41.8643413  49.85086005 42.70492635]\n",
            " [50.91700499 47.89308685 43.28327092 36.95824848 44.11588873 37.74852434]\n",
            " [40.28962745 37.96459475 34.14021405 29.01999836 34.78809803 29.79594224]\n",
            " [48.18911229 45.45522221 40.95070805 34.83473867 41.6074317  35.64315452]\n",
            " [41.90754329 39.54156992 35.65567235 30.36075861 36.2231957  30.95631748]]\n"
          ]
        }
      ]
    },
    {
      "cell_type": "markdown",
      "source": [
        "### Scaling resultant Matrix"
      ],
      "metadata": {
        "id": "rdmPBYz_lxV0"
      }
    },
    {
      "cell_type": "code",
      "source": [
        "embedding_vectors = np.array(list(given_embeddings.values()))\n",
        "scale = np.sqrt(6/embedding_vectors.size)\n",
        "scaled_matrix = single_head * scale\n",
        "print(scaled_matrix)"
      ],
      "metadata": {
        "colab": {
          "base_uri": "https://localhost:8080/"
        },
        "id": "6xxRA6dgCe3e",
        "outputId": "afa28364-6332-4707-c5ec-b14d70835763"
      },
      "execution_count": null,
      "outputs": [
        {
          "output_type": "stream",
          "name": "stdout",
          "text": [
            "[[23.81808511 22.39811655 20.30817026 17.39798248 20.70230794 17.63297749]\n",
            " [23.49415631 22.1085992  20.00684084 17.09104577 20.35152839 17.43421318]\n",
            " [20.78678024 19.55227083 17.67032136 15.08814176 18.01023616 15.41077053]\n",
            " [16.44817153 15.49898091 13.93768402 11.84736472 14.20218155 12.16414248]\n",
            " [19.67312271 18.55701676 16.71805655 14.22122251 16.98616286 14.5512569 ]\n",
            " [17.10868291 16.14277832 14.55636728 12.3947278  14.78805772 12.63786369]]\n"
          ]
        }
      ]
    },
    {
      "cell_type": "markdown",
      "source": [
        "### Softmax"
      ],
      "metadata": {
        "id": "ysNlyD0FmAaA"
      }
    },
    {
      "cell_type": "code",
      "source": [
        "def softmax(matrix):\n",
        "\n",
        "    exp_matrix = np.exp(matrix)\n",
        "    row_sums = np.sum(exp_matrix, axis=1)\n",
        "    softmax_matrix = exp_matrix / row_sums[:, np.newaxis]\n",
        "\n",
        "    return softmax_matrix\n",
        "\n",
        "softmax_matrix = softmax(scaled_matrix)\n",
        "\n",
        "print(softmax_matrix)"
      ],
      "metadata": {
        "colab": {
          "base_uri": "https://localhost:8080/"
        },
        "id": "5Bq7drQnJoDi",
        "outputId": "7381782a-9de3-4ae1-be56-fca0b257dc85"
      },
      "execution_count": null,
      "outputs": [
        {
          "output_type": "stream",
          "name": "stdout",
          "text": [
            "[[0.75777469 0.18317052 0.02265705 0.00123403 0.03360278 0.00156092]\n",
            " [0.75305323 0.18840216 0.02303052 0.00124736 0.03250871 0.00175803]\n",
            " [0.71147977 0.20702459 0.03152838 0.00238383 0.04429195 0.00329148]\n",
            " [0.62580719 0.24222128 0.05083346 0.00628544 0.06622462 0.008628  ]\n",
            " [0.68588579 0.22466382 0.03571765 0.00294118 0.04670033 0.00409123]\n",
            " [0.63405143 0.24134453 0.04939328 0.00568696 0.06227156 0.00725224]]\n"
          ]
        }
      ]
    },
    {
      "cell_type": "markdown",
      "source": [
        "### Single Head Attention"
      ],
      "metadata": {
        "id": "oAN1D8sJmFJ7"
      }
    },
    {
      "cell_type": "code",
      "source": [
        "value_matrix = np.array(list(value.values()))\n",
        "single_head_matrix = np.dot(softmax_matrix, value_matrix)\n",
        "\n",
        "print(single_head_matrix)"
      ],
      "metadata": {
        "colab": {
          "base_uri": "https://localhost:8080/"
        },
        "id": "tavQxszuNwJc",
        "outputId": "23a102d1-9e47-4111-c3d9-b54f9b65e326"
      },
      "execution_count": null,
      "outputs": [
        {
          "output_type": "stream",
          "name": "stdout",
          "text": [
            "[[3.61043776 4.40292387 4.09559408 4.78650057]\n",
            " [3.61082969 4.39883395 4.09410208 4.78862463]\n",
            " [3.59899426 4.37002885 4.06801163 4.7784569 ]\n",
            " [3.57075759 4.30974275 4.01107918 4.75192832]\n",
            " [3.595188   4.35060071 4.05491432 4.77878656]\n",
            " [3.57538626 4.31477208 4.01821963 4.75808201]]\n"
          ]
        }
      ]
    },
    {
      "cell_type": "markdown",
      "source": [
        "### Normalizing Single Head Matrix"
      ],
      "metadata": {
        "id": "f7w_nqzTmPhL"
      }
    },
    {
      "cell_type": "code",
      "source": [
        "weights_matrix = np.array([[0.8, 0.34, 0.45, 0.54, 0.07, 0.53],\n",
        "                           [0.85, 0.74, 0.78, 0.5, 0.75, 0.55],\n",
        "                           [0.53, 0.81, 0.55, 0.59, 0.49, 0.14],\n",
        "                           [0.7, 0.6, 0.12, 0.42, 0.29, 0.87]])\n",
        "normalized_single_head = np.dot(single_head_matrix, weights_matrix)\n",
        "print(normalized_single_head)"
      ],
      "metadata": {
        "colab": {
          "base_uri": "https://localhost:8080/"
        },
        "id": "Ii-3PjWyPViO",
        "outputId": "47a4527d-a52e-435b-a23d-82f5f11f8c9b"
      },
      "execution_count": null,
      "outputs": [
        {
          "output_type": "stream",
          "name": "stdout",
          "text": [
            "[[12.15205075 10.67504404  7.88593442  8.57782907  6.94984981  9.0727788 ]\n",
            " [12.14958395 10.67221668  7.88235494  8.57600758  6.9466947   9.07237613]\n",
            " [12.09468593 10.61964296  7.83899114  8.53555008  6.90852943  9.03776196]\n",
            " [11.9721092  10.50339834  7.74476521  8.44542708  6.8257481   8.95858876]\n",
            " [12.06841618 10.59356098  7.81496041  8.51619168  6.88736981  9.02351234]\n",
            " [11.98817909 10.51816977  7.75543668  8.45723865  6.8351275   8.97016146]]\n"
          ]
        }
      ]
    },
    {
      "cell_type": "markdown",
      "source": [
        "## Adding & Normalizing"
      ],
      "metadata": {
        "id": "qENEPuBTmXta"
      }
    },
    {
      "cell_type": "code",
      "source": [
        "summed_matrix = np.array(list(summed_embeddings.values()))\n",
        "added_matrix = normalized_single_head + summed_matrix\n",
        "print(added_matrix)"
      ],
      "metadata": {
        "colab": {
          "base_uri": "https://localhost:8080/"
        },
        "id": "x5q72gOAWaUp",
        "outputId": "523436cc-9802-4047-f552-edbb22b36ac0"
      },
      "execution_count": null,
      "outputs": [
        {
          "output_type": "stream",
          "name": "stdout",
          "text": [
            "[[12.94205075 12.27504404  8.84593442 10.21782907  7.91984981 10.2727788 ]\n",
            " [13.37108395 11.79111668  7.94455494 10.36600758  7.8466947  10.81237613]\n",
            " [13.01398593 12.12534296  8.11329114  9.84555008  7.46852943 10.62776196]\n",
            " [12.2332092  12.09369834  8.40126521  9.66542708  6.8957481  10.32858876]\n",
            " [12.19161618 11.98636098  8.61356041 10.13619168  7.38736981 10.72351234]\n",
            " [11.62927909 11.82136977  8.51623668  9.93723865  7.7751275  10.18016146]]\n"
          ]
        }
      ]
    },
    {
      "cell_type": "markdown",
      "source": [
        "### Normalizing resultant Matrix"
      ],
      "metadata": {
        "id": "Pc53wUE-mabp"
      }
    },
    {
      "cell_type": "code",
      "source": [
        "def normalize_rows(matrix, error=0.0001):\n",
        "\n",
        "    row_means = np.mean(matrix, axis=1)\n",
        "    row_stds = np.std(matrix, axis=1)\n",
        "    normalized_added_matrix = (matrix - row_means[:, np.newaxis]) / (row_stds[:, np.newaxis] + error)\n",
        "\n",
        "    return normalized_added_matrix\n",
        "\n",
        "normalized_added_matrix = normalize_rows(added_matrix)\n",
        "print(normalized_added_matrix)"
      ],
      "metadata": {
        "colab": {
          "base_uri": "https://localhost:8080/"
        },
        "id": "h-92gmm3ZMK2",
        "outputId": "252101d2-824b-4ba9-f006-4da59b99a959"
      },
      "execution_count": null,
      "outputs": [
        {
          "output_type": "stream",
          "name": "stdout",
          "text": [
            "[[ 1.43703778  1.05814904 -0.88973394 -0.11043828 -1.41579016 -0.07922445]\n",
            " [ 1.52473129  0.72592405 -1.21883863  0.00541072 -1.26831526  0.23108782]\n",
            " [ 1.41479079  0.9681533  -1.04832892 -0.17768479 -1.37239017  0.21545977]\n",
            " [ 1.20607904  1.13282286 -0.80604803 -0.14224544 -1.59658456  0.20597613]\n",
            " [ 1.16991027  1.05094645 -0.90389432 -0.02139279 -1.61458187  0.31901227]\n",
            " [ 1.11601572  1.24572764 -0.98610975 -0.02655827 -1.4865541   0.13747876]]\n"
          ]
        }
      ]
    },
    {
      "cell_type": "markdown",
      "source": [
        "## Feed Forward"
      ],
      "metadata": {
        "id": "ybjo7sZhmhs8"
      }
    },
    {
      "cell_type": "markdown",
      "source": [
        "### Linear layer"
      ],
      "metadata": {
        "id": "ctUq7ZbBmx6d"
      }
    },
    {
      "cell_type": "code",
      "source": [
        "w = np.array([[0.5, 0.05, 0.97, 0.22, 0.56, 0.02],\n",
        "              [0.17, 0.52, 0.63, 0.48, 0.06, 0.6],\n",
        "              [0.53, 0.87, 0.47, 0.1, 0.31, 0.79],\n",
        "              [0.83, 0.58, 0.38, 0.09, 0.64, 0.25],\n",
        "              [0.81, 0.85, 0.74, 0.35, 0.31, 0.53],\n",
        "              [0.25, 0.31, 0.22, 0.77, 0.57, 0.85]])\n",
        "x_dot_w = np.dot(normalized_added_matrix, w)\n",
        "print(x_dot_w)"
      ],
      "metadata": {
        "colab": {
          "base_uri": "https://localhost:8080/"
        },
        "id": "r0RFG8OxWfFR",
        "outputId": "81b17fe8-6117-4100-f876-68e278ce0e82"
      },
      "execution_count": null,
      "outputs": [
        {
          "output_type": "stream",
          "name": "stdout",
          "text": [
            "[[-0.83141467 -1.44401455  0.53530495  0.16861763  0.0376792  -0.88457876]\n",
            " [-0.72528424 -1.60996506  0.47780945  0.29651481  0.26157018 -0.97126322]\n",
            " [-0.88888233 -1.54066319  0.45388127  0.3407105   0.10904293 -0.80763922]\n",
            " [-0.99138923 -1.42763658  0.3145214   0.31548249  0.02492684 -0.63963411]\n",
            " [-0.96126223 -1.467309    0.23934174  0.35005556  0.10562453 -0.6500266 ]\n",
            " [-0.9446391  -1.39069269  0.32397523  0.32803622 -0.00544774 -0.6869261 ]]\n"
          ]
        }
      ]
    },
    {
      "cell_type": "code",
      "source": [
        "b = np.array([[0.42, 0.18, 0.25, 0.42, 0.35, 0.45]])\n",
        "linear_layer_matrix = x_dot_w + b\n",
        "print(linear_layer_matrix)"
      ],
      "metadata": {
        "colab": {
          "base_uri": "https://localhost:8080/"
        },
        "id": "JukACwpognOa",
        "outputId": "52a9b00d-7b32-4ad7-89d6-4c6f0a843ee3"
      },
      "execution_count": null,
      "outputs": [
        {
          "output_type": "stream",
          "name": "stdout",
          "text": [
            "[[-0.41141467 -1.26401455  0.78530495  0.58861763  0.3876792  -0.43457876]\n",
            " [-0.30528424 -1.42996506  0.72780945  0.71651481  0.61157018 -0.52126322]\n",
            " [-0.46888233 -1.36066319  0.70388127  0.7607105   0.45904293 -0.35763922]\n",
            " [-0.57138923 -1.24763658  0.5645214   0.73548249  0.37492684 -0.18963411]\n",
            " [-0.54126223 -1.287309    0.48934174  0.77005556  0.45562453 -0.2000266 ]\n",
            " [-0.5246391  -1.21069269  0.57397523  0.74803622  0.34455226 -0.2369261 ]]\n"
          ]
        }
      ]
    },
    {
      "cell_type": "markdown",
      "source": [
        "### ReLU"
      ],
      "metadata": {
        "id": "QwSlhBuCm0n0"
      }
    },
    {
      "cell_type": "code",
      "source": [
        "def relu(matrix):\n",
        "\n",
        "    relu_matrix = np.maximum(0, matrix)\n",
        "\n",
        "    return relu_matrix\n",
        "\n",
        "relu_matrix = relu(linear_layer_matrix)\n",
        "print(relu_matrix)"
      ],
      "metadata": {
        "colab": {
          "base_uri": "https://localhost:8080/"
        },
        "id": "QSuWDP2NiDbF",
        "outputId": "d9d62204-1796-4a33-b432-aa20bf94c0cd"
      },
      "execution_count": null,
      "outputs": [
        {
          "output_type": "stream",
          "name": "stdout",
          "text": [
            "[[0.         0.         0.78530495 0.58861763 0.3876792  0.        ]\n",
            " [0.         0.         0.72780945 0.71651481 0.61157018 0.        ]\n",
            " [0.         0.         0.70388127 0.7607105  0.45904293 0.        ]\n",
            " [0.         0.         0.5645214  0.73548249 0.37492684 0.        ]\n",
            " [0.         0.         0.48934174 0.77005556 0.45562453 0.        ]\n",
            " [0.         0.         0.57397523 0.74803622 0.34455226 0.        ]]\n"
          ]
        }
      ]
    },
    {
      "cell_type": "code",
      "source": [
        "added_matrix_2 = normalized_added_matrix + relu_matrix\n",
        "print(added_matrix_2)"
      ],
      "metadata": {
        "colab": {
          "base_uri": "https://localhost:8080/"
        },
        "id": "0RA2TBmIhkC9",
        "outputId": "44083340-487b-4186-d9c8-53f3cffaec81"
      },
      "execution_count": null,
      "outputs": [
        {
          "output_type": "stream",
          "name": "stdout",
          "text": [
            "[[ 1.43703778  1.05814904 -0.10442899  0.47817935 -1.02811096 -0.07922445]\n",
            " [ 1.52473129  0.72592405 -0.49102917  0.72192554 -0.65674508  0.23108782]\n",
            " [ 1.41479079  0.9681533  -0.34444765  0.58302572 -0.91334723  0.21545977]\n",
            " [ 1.20607904  1.13282286 -0.24152662  0.59323705 -1.22165772  0.20597613]\n",
            " [ 1.16991027  1.05094645 -0.41455258  0.74866277 -1.15895735  0.31901227]\n",
            " [ 1.11601572  1.24572764 -0.41213452  0.72147794 -1.14200183  0.13747876]]\n"
          ]
        }
      ]
    },
    {
      "cell_type": "code",
      "source": [
        "normalized_added_matrix_2 = normalize_rows(added_matrix_2)\n",
        "print(normalized_added_matrix_2)"
      ],
      "metadata": {
        "colab": {
          "base_uri": "https://localhost:8080/"
        },
        "id": "ctWlogbEio4E",
        "outputId": "96fbfdc8-afa6-442b-befb-b97cedea1684"
      },
      "execution_count": null,
      "outputs": [
        {
          "output_type": "stream",
          "name": "stdout",
          "text": [
            "[[ 1.40545695  0.93974561 -0.48923796  0.22687547 -1.62458229 -0.45825778]\n",
            " [ 1.57140817  0.50950891 -1.10825524  0.50419347 -1.32855068 -0.14830463]\n",
            " [ 1.4005104   0.82883336 -0.85124018  0.33588638 -1.57940752 -0.13458244]\n",
            " [ 1.10571699  1.01833053 -0.62111533  0.37466476 -1.79030256 -0.08729439]\n",
            " [ 1.06157669  0.91872743 -0.8410131   0.55575153 -1.73487875  0.0398362 ]\n",
            " [ 0.9846054   1.13696363 -0.81034338  0.52118558 -1.66763766 -0.16477356]]\n"
          ]
        }
      ]
    },
    {
      "cell_type": "markdown",
      "source": [
        "# Decoder"
      ],
      "metadata": {
        "id": "l-ejO_jnm7me"
      }
    },
    {
      "cell_type": "code",
      "source": [
        "# embeddings = {\n",
        "#     '<start>': np.array([0.31, 0.21, 0.12, 0.64, 0.98, 0.2]),\n",
        "# }"
      ],
      "metadata": {
        "id": "anp389yym9Fo"
      },
      "execution_count": null,
      "outputs": []
    },
    {
      "cell_type": "code",
      "source": [
        "# positional_embeddings = {}\n",
        "\n",
        "# for i, word in enumerate(embeddings.keys()):\n",
        "#     positional_embeddings[word] = np.zeros(6)\n",
        "#     for d in range(6):\n",
        "#         if d % 2 == 0:\n",
        "#             positional_embeddings[word][d] = np.sin(i / (10000 ** (2*d / 6)))\n",
        "#             print(f\"Word: {word}, Position: {i}, Dimension: {d}, Formula: sin({i} / (10000 ** ((2*{d}) / 6))), Value: {positional_embeddings[word][d]}\")\n",
        "#         else:\n",
        "#             positional_embeddings[word][d] = np.cos(i / (10000 ** (2*d / 6)))\n",
        "#             print(f\"Word: {word}, Position: {i}, Dimension: {d}, Formula: cos({i} / (10000 ** ((2*{d}) / 6))), Value: {positional_embeddings[word][d]}\")\n",
        "\n",
        "# for word, embedding in positional_embeddings.items():\n",
        "#     positional_embeddings[word] = np.round(embedding, 4)\n",
        "\n",
        "# print(positional_embeddings)"
      ],
      "metadata": {
        "colab": {
          "base_uri": "https://localhost:8080/"
        },
        "id": "LLgz1qDaonjf",
        "outputId": "663bd736-c614-47a8-fb41-32506934f2aa"
      },
      "execution_count": null,
      "outputs": [
        {
          "output_type": "stream",
          "name": "stdout",
          "text": [
            "Word: <start>, Position: 0, Dimension: 0, Formula: sin(0 / (10000 ** ((2*0) / 6))), Value: 0.0\n",
            "Word: <start>, Position: 0, Dimension: 1, Formula: cos(0 / (10000 ** ((2*1) / 6))), Value: 1.0\n",
            "Word: <start>, Position: 0, Dimension: 2, Formula: sin(0 / (10000 ** ((2*2) / 6))), Value: 0.0\n",
            "Word: <start>, Position: 0, Dimension: 3, Formula: cos(0 / (10000 ** ((2*3) / 6))), Value: 1.0\n",
            "Word: <start>, Position: 0, Dimension: 4, Formula: sin(0 / (10000 ** ((2*4) / 6))), Value: 0.0\n",
            "Word: <start>, Position: 0, Dimension: 5, Formula: cos(0 / (10000 ** ((2*5) / 6))), Value: 1.0\n",
            "{'<start>': array([0., 1., 0., 1., 0., 1.])}\n"
          ]
        }
      ]
    },
    {
      "cell_type": "code",
      "source": [
        "# summed_embeddings = {}\n",
        "\n",
        "# for word in embeddings.keys():\n",
        "#     summed_embeddings[word] = embeddings[word] + positional_embeddings[word]\n",
        "\n",
        "# print(summed_embeddings)"
      ],
      "metadata": {
        "colab": {
          "base_uri": "https://localhost:8080/"
        },
        "id": "RqJ_JJSOpEuK",
        "outputId": "5162e5b9-9779-492a-a856-bb39c50cdac2"
      },
      "execution_count": null,
      "outputs": [
        {
          "output_type": "stream",
          "name": "stdout",
          "text": [
            "{'<start>': array([0.31, 1.21, 0.12, 1.64, 0.98, 1.2 ])}\n"
          ]
        }
      ]
    },
    {
      "cell_type": "code",
      "source": [
        "# query_weights = np.array([\n",
        "#     [0.52, 0.45, 0.91, 0.69],\n",
        "# ])\n",
        "# key_weights = np.array([\n",
        "#     [0.74, 0.57, 0.21, 0.73],\n",
        "# ])\n",
        "# value_weights = np.array([\n",
        "#     [0.62, 0.07, 0.7, 0.95],\n",
        "# ])"
      ],
      "metadata": {
        "id": "9bP9Qcy8pTry"
      },
      "execution_count": null,
      "outputs": []
    },
    {
      "cell_type": "code",
      "source": [
        "# query = {}\n",
        "\n",
        "# for word in summed_embeddings.keys():\n",
        "#     query [word] = np.zeros(4)\n",
        "#     for i in range(4):\n",
        "#         query [word][i] = np.nansum(summed_embeddings[word] * query_weights[:, i])\n",
        "\n",
        "# print(query)"
      ],
      "metadata": {
        "colab": {
          "base_uri": "https://localhost:8080/"
        },
        "id": "1umXnyaKpoMJ",
        "outputId": "7529b79b-dd6d-4db9-af59-07acb1072886"
      },
      "execution_count": null,
      "outputs": [
        {
          "output_type": "stream",
          "name": "stdout",
          "text": [
            "{'<start>': array([2.8392, 2.457 , 4.9686, 3.7674])}\n"
          ]
        }
      ]
    },
    {
      "cell_type": "code",
      "source": [],
      "metadata": {
        "id": "XudB-Z4lrZju"
      },
      "execution_count": null,
      "outputs": []
    }
  ]
}